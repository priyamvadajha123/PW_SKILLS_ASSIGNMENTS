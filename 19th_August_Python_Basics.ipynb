{
 "cells": [
  {
   "cell_type": "markdown",
   "id": "e3cf655b-03a2-459e-b0a4-157687391c06",
   "metadata": {},
   "source": [
    "## TOPIC: Python Basics Variable"
   ]
  },
  {
   "cell_type": "markdown",
   "id": "40558f3e-0d89-421d-b212-0efee22f8733",
   "metadata": {},
   "source": [
    "###### 1. Declare two variables, `x` and `y`, and assign them integer values. Swap the\n",
    "###### values of these variables without using any temporary variable."
   ]
  },
  {
   "cell_type": "code",
   "execution_count": 2,
   "id": "55b2447e-512c-4910-b676-b4c3e4073a1d",
   "metadata": {},
   "outputs": [
    {
     "name": "stdout",
     "output_type": "stream",
     "text": [
      "Value of x 12\n",
      "Value of y 100\n",
      "Value of x after swapping 100\n",
      "Value of y after swapping 12\n"
     ]
    }
   ],
   "source": [
    "x=12\n",
    "y=100\n",
    "print(\"Value of x\",x)\n",
    "print(\"Value of y\",y)\n",
    "x=x+y\n",
    "y=x-y\n",
    "x=x-y\n",
    "print(\"Value of x after swapping\",x)\n",
    "print(\"Value of y after swapping\",y)"
   ]
  },
  {
   "cell_type": "markdown",
   "id": "ff5871bb-d2a7-4e09-993f-0f0412445725",
   "metadata": {},
   "source": [
    "###### 2. Create a program that calculates the area of a rectangle. Take the length and\n",
    "###### width as inputs from the user and store them in variables. Calculate and\n",
    "###### display the area."
   ]
  },
  {
   "cell_type": "code",
   "execution_count": 4,
   "id": "3c1e1b42-515f-4704-af7b-08719ce2f785",
   "metadata": {},
   "outputs": [
    {
     "name": "stdin",
     "output_type": "stream",
     "text": [
      "enter length of rectangle 100\n",
      "enter breadth of rectangle 2\n"
     ]
    },
    {
     "name": "stdout",
     "output_type": "stream",
     "text": [
      "Area of reactangle is : 200\n"
     ]
    }
   ],
   "source": [
    "# initializing the length and breadth of rectangle by taking inputs\n",
    "length= int(input(\"enter length of rectangle\"))\n",
    "breadth= int(input(\"enter breadth of rectangle\"))\n",
    "\n",
    "# Calculating area of rectangle\n",
    "area_of_reactangle = length * breadth\n",
    "\n",
    "print(\"Area of reactangle is :\", area_of_reactangle)\n"
   ]
  },
  {
   "cell_type": "markdown",
   "id": "a44ba185-9b7f-4566-855b-6e2d0e54a008",
   "metadata": {},
   "source": [
    "###### 3. Write a Python program that converts temperatures from Celsius to\n",
    "###### Fahrenheit. Take the temperature in Celsius as input, store it in a variable,\n",
    "###### convert it to Fahrenheit, and display the result."
   ]
  },
  {
   "cell_type": "code",
   "execution_count": 6,
   "id": "5ccc63fd-b412-493f-b25c-e1ef5e5d6b9e",
   "metadata": {},
   "outputs": [
    {
     "name": "stdin",
     "output_type": "stream",
     "text": [
      "enter temperature in celcius 18.5\n"
     ]
    },
    {
     "name": "stdout",
     "output_type": "stream",
     "text": [
      "Temperture in Fahrenheit for the temperature in celcius : 18.5 is :  65.30000000000001\n"
     ]
    }
   ],
   "source": [
    "temperature_celcius = float(input(\"enter temperature in celcius\"))\n",
    "temperature_fahrenheit = (1.8 * temperature_celcius) +32\n",
    "print(\"Temperture in Fahrenheit for the temperature in celcius :\",temperature_celcius,\"is : \",temperature_fahrenheit)"
   ]
  },
  {
   "cell_type": "markdown",
   "id": "4df8f833-42a4-4720-8955-0695c463fb90",
   "metadata": {},
   "source": [
    "## TOPIC: String Based Questions"
   ]
  },
  {
   "cell_type": "markdown",
   "id": "c6f694a5-a129-4492-814d-af2f0fd8cef3",
   "metadata": {},
   "source": [
    "###### 1. Write a Python program that takes a string as input and prints the length of\n",
    "###### the string."
   ]
  },
  {
   "cell_type": "code",
   "execution_count": 8,
   "id": "f3fb39f2-e955-4c68-a431-154a19f56259",
   "metadata": {},
   "outputs": [
    {
     "name": "stdin",
     "output_type": "stream",
     "text": [
      "enter a string  priyam\n"
     ]
    },
    {
     "name": "stdout",
     "output_type": "stream",
     "text": [
      "Length of the given string priyam is:  6\n"
     ]
    }
   ],
   "source": [
    "s= input(\"enter a string \")\n",
    "#logic to get the length of the string\n",
    "length_s = len(s)\n",
    "print(\"Length of the given string\", s, \"is: \" , length_s)"
   ]
  },
  {
   "cell_type": "markdown",
   "id": "d1f03c58-10dc-4b52-8786-64bf5a79e007",
   "metadata": {},
   "source": [
    "###### 2. Create a program that takes a sentence from the user and counts the number\n",
    "###### of vowels (a, e, i, o, u) in the string."
   ]
  },
  {
   "cell_type": "code",
   "execution_count": 13,
   "id": "7e230287-f35e-4ae7-a85f-7f2165c18047",
   "metadata": {},
   "outputs": [
    {
     "name": "stdin",
     "output_type": "stream",
     "text": [
      "enter any sentence I Love Data Sience\n"
     ]
    },
    {
     "name": "stdout",
     "output_type": "stream",
     "text": [
      "Number of vowels in the inputted sentence =  8\n"
     ]
    }
   ],
   "source": [
    "sentence = input(\"enter any sentence\")\n",
    "# converting the sentence into lowercase\n",
    "sentence_lower=sentence.lower()\n",
    "vowel = ['a','e','i','o','u']\n",
    "sum_vowels=0\n",
    "# Summing total number of vowels in an inputted sentence\n",
    "for i in vowel:\n",
    "    sum_vowels=sum_vowels+sentence_lower.count(i)\n",
    "print(\"Number of vowels in the inputted sentence = \", sum_vowels)\n",
    "    "
   ]
  },
  {
   "cell_type": "markdown",
   "id": "66f66376-ead3-4b49-b0b3-78cf9da4d1a7",
   "metadata": {},
   "source": [
    "###### 3. Given a string, reverse the order of characters using string slicing and print\n",
    "###### the reversed string."
   ]
  },
  {
   "cell_type": "code",
   "execution_count": 14,
   "id": "b63d7e93-34da-4629-a822-b762f6d459e7",
   "metadata": {},
   "outputs": [
    {
     "name": "stdin",
     "output_type": "stream",
     "text": [
      "enter a string  Priyam\n"
     ]
    },
    {
     "name": "stdout",
     "output_type": "stream",
     "text": [
      "Reverse of the inputted string  Priyam is : mayirP\n"
     ]
    }
   ],
   "source": [
    "string = input(\"enter a string \")\n",
    "reverse_string = string[::-1]\n",
    "print(\"Reverse of the inputted string \", string , \"is :\", reverse_string)"
   ]
  },
  {
   "cell_type": "markdown",
   "id": "6ea2d6da-0780-420a-b0b9-fec781c2ffbe",
   "metadata": {},
   "source": [
    "###### 4. Write a program that takes a string as input and checks if it is a palindrome\n",
    "###### (reads the same forwards and backwards)."
   ]
  },
  {
   "cell_type": "code",
   "execution_count": 18,
   "id": "39cc8608-0e05-4cd1-975a-e2f59f4a509e",
   "metadata": {},
   "outputs": [
    {
     "name": "stdin",
     "output_type": "stream",
     "text": [
      "enter a string  radar\n"
     ]
    },
    {
     "name": "stdout",
     "output_type": "stream",
     "text": [
      "Yes it is a pallindrome\n"
     ]
    }
   ],
   "source": [
    "string = input(\"enter a string \").lower()\n",
    "reverse_string = string[::-1]\n",
    "if string == reverse_string:\n",
    "    print(\"Yes it is a pallindrome\")\n",
    "else:\n",
    "    print(\"Not a pallindome\")"
   ]
  },
  {
   "cell_type": "markdown",
   "id": "1b891919-1836-474d-bb9b-0a47b7763269",
   "metadata": {},
   "source": [
    "###### 5. Create a program that takes a string as input and removes all the spaces from\n",
    "###### it. Print the modified string without spaces."
   ]
  },
  {
   "cell_type": "code",
   "execution_count": 22,
   "id": "6c68b3a6-ce23-4e3c-9aa1-6e0e4029d944",
   "metadata": {},
   "outputs": [
    {
     "name": "stdin",
     "output_type": "stream",
     "text": [
      "enter a string        Hi    Priyam  \n"
     ]
    },
    {
     "name": "stdout",
     "output_type": "stream",
     "text": [
      "HiPriyam\n"
     ]
    }
   ],
   "source": [
    "string = input(\"enter a string \")\n",
    "# By using split just convert the string into a list by ignoring whitespaces\n",
    "modified_string_list = string.split(\" \")\n",
    "\n",
    "#Coverting list to string again by removing all white spaces\n",
    "print(''.join(modified_string_list))"
   ]
  },
  {
   "cell_type": "code",
   "execution_count": null,
   "id": "f62c3d23-b20e-4422-af5a-22d0d66524b3",
   "metadata": {},
   "outputs": [],
   "source": []
  }
 ],
 "metadata": {
  "kernelspec": {
   "display_name": "Python 3 (ipykernel)",
   "language": "python",
   "name": "python3"
  },
  "language_info": {
   "codemirror_mode": {
    "name": "ipython",
    "version": 3
   },
   "file_extension": ".py",
   "mimetype": "text/x-python",
   "name": "python",
   "nbconvert_exporter": "python",
   "pygments_lexer": "ipython3",
   "version": "3.10.8"
  }
 },
 "nbformat": 4,
 "nbformat_minor": 5
}
